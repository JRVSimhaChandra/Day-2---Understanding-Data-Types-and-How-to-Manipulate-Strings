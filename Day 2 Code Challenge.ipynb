{
 "cells": [
  {
   "cell_type": "markdown",
   "id": "233ecd8f-2d3c-4ad9-b5ef-5da348e3e9f3",
   "metadata": {},
   "source": [
    "## Day 2 - Understanding Data Types and How to Manipulate Strings"
   ]
  },
  {
   "cell_type": "markdown",
   "id": "0f759d6c-0b74-457d-a671-8c72565b5d2d",
   "metadata": {},
   "source": [
    "## Concepts Practised"
   ]
  },
  {
   "cell_type": "markdown",
   "id": "20263e89-d92d-46b0-9db2-702e1704dc75",
   "metadata": {},
   "source": [
    "Python Primitive Data Types\n",
    "\n",
    "Type Error, Type Checking and Type Conversion\n",
    "\n",
    "Data Types\n",
    "\n",
    "Mathematical Operations in Python\n",
    "\n",
    "Number Manipulation and F Strings in Python"
   ]
  },
  {
   "cell_type": "code",
   "execution_count": 1,
   "id": "e6f6fbd6-8dba-45f5-9e4f-4db8cce2cee0",
   "metadata": {},
   "outputs": [
    {
     "name": "stdout",
     "output_type": "stream",
     "text": [
      "Welcome to the tip calculator!\n"
     ]
    }
   ],
   "source": [
    "print(\"Welcome to the tip calculator!\")"
   ]
  },
  {
   "cell_type": "code",
   "execution_count": 2,
   "id": "e2ebb72d-d5f6-410f-aa14-5c1865a016e2",
   "metadata": {},
   "outputs": [
    {
     "name": "stdin",
     "output_type": "stream",
     "text": [
      "What is the total bill amount?\n",
      "$: 100\n"
     ]
    }
   ],
   "source": [
    "bill = float(input(\"What is the total bill amount?\\n$:\"))"
   ]
  },
  {
   "cell_type": "code",
   "execution_count": 3,
   "id": "50fcabd6-8786-4969-bdd5-e381e5db1761",
   "metadata": {},
   "outputs": [
    {
     "name": "stdin",
     "output_type": "stream",
     "text": [
      "How much tip would you like to give?\n",
      "Percent: 20\n"
     ]
    }
   ],
   "source": [
    "tip = int(input(\"How much tip would you like to give?\\nPercent:\"))"
   ]
  },
  {
   "cell_type": "code",
   "execution_count": 4,
   "id": "ded491bf-c2b5-4686-8fcb-02085a5338ed",
   "metadata": {},
   "outputs": [
    {
     "name": "stdin",
     "output_type": "stream",
     "text": [
      "How many people to split the bill?\n",
      "People: 10\n"
     ]
    }
   ],
   "source": [
    "split = int(input(\"How many people to split the bill?\\nPeople:\"))"
   ]
  },
  {
   "cell_type": "code",
   "execution_count": 5,
   "id": "c280a96a-f275-4a31-a3a2-2b27119b5ed7",
   "metadata": {},
   "outputs": [],
   "source": [
    "total = (\"{:.2f}\".format((((bill * (tip / 100)) + bill) / split)))"
   ]
  },
  {
   "cell_type": "code",
   "execution_count": 6,
   "id": "9d7abdf8-3c2a-4a20-bf47-3ce63d53cf30",
   "metadata": {},
   "outputs": [
    {
     "name": "stdout",
     "output_type": "stream",
     "text": [
      "Each person should pay: $12.00\n"
     ]
    }
   ],
   "source": [
    "print(f\"Each person should pay: ${total}\")"
   ]
  },
  {
   "cell_type": "code",
   "execution_count": null,
   "id": "d0061375-debd-409f-bbf5-f45ced3ac671",
   "metadata": {},
   "outputs": [],
   "source": []
  }
 ],
 "metadata": {
  "kernelspec": {
   "display_name": "Python 3 (ipykernel)",
   "language": "python",
   "name": "python3"
  },
  "language_info": {
   "codemirror_mode": {
    "name": "ipython",
    "version": 3
   },
   "file_extension": ".py",
   "mimetype": "text/x-python",
   "name": "python",
   "nbconvert_exporter": "python",
   "pygments_lexer": "ipython3",
   "version": "3.12.4"
  }
 },
 "nbformat": 4,
 "nbformat_minor": 5
}
